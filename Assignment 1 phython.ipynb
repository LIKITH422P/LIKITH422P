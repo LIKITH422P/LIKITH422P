{
 "cells": [
  {
   "cell_type": "raw",
   "id": "14e51b84",
   "metadata": {},
   "source": [
    "1. In the below elements which of them are values or an expression? eg:- values can be integer or string and expressions will be mathematical operators.\n",
    "\n",
    "Ans: values are  'hello' , -87.8 ,  6 \n",
    "     expressions are * , - , / , +\n",
    "     \n",
    "2. What is the difference between string and variable?\n",
    "\n",
    "Ans: string is a type of information given to define a variable\n",
    "     variable is a symbol that can store data in a program\n",
    "\n",
    "3. Describe three different data types.\n",
    "\n",
    "Ans: 1 integer numbers:- which are used to assign a values and for define a size\n",
    "     2 floating point numbers:- these are approximate real numbers \n",
    "     3 complex numbers:- it represented by A+Bj where A is real part B is imaginary part, it is a built in feature \n",
    "\n",
    "\n",
    "4. What is an expression made up of? What do all expressions do?\n",
    "\n",
    "Ans:- An expression is a combination of operators, constants and varibles and it evaluate a single value.\n",
    "       Expression are representation of value. \n",
    "       \n",
    "5. This assignment statements, like spam = 10. What is the difference between an expression and a statement?\n",
    "\n",
    "Ans:- like spam = 10 cannot be reduced to a value then it is statement, expression is something that can be reduced to a            value.\n",
    "\n",
    "6. After running the following code, what does the variable bacon contain?\n",
    "bacon = 22\n",
    "bacon + 1\n",
    "\n",
    "Ans:- bacon = bacon + 1  \n"
   ]
  },
  {
   "cell_type": "code",
   "execution_count": 13,
   "id": "0051d70f",
   "metadata": {},
   "outputs": [],
   "source": [
    "bacon = 22\n",
    "bacon = bacon + 1"
   ]
  },
  {
   "cell_type": "raw",
   "id": "aea78eee",
   "metadata": {},
   "source": [
    "7. What should the values of the following two terms be?\n",
    "'spam' + 'spamspam'\n",
    "'spam' * 3\n",
    "\n",
    "Ans:- 'spamspamspam'  for both terms\n"
   ]
  },
  {
   "cell_type": "code",
   "execution_count": 10,
   "id": "ba7c5cad",
   "metadata": {},
   "outputs": [
    {
     "data": {
      "text/plain": [
       "'spamspamspam'"
      ]
     },
     "execution_count": 10,
     "metadata": {},
     "output_type": "execute_result"
    }
   ],
   "source": [
    "'spam' + 'spamspam'"
   ]
  },
  {
   "cell_type": "code",
   "execution_count": 11,
   "id": "4adc0db6",
   "metadata": {},
   "outputs": [
    {
     "data": {
      "text/plain": [
       "'spamspamspam'"
      ]
     },
     "execution_count": 11,
     "metadata": {},
     "output_type": "execute_result"
    }
   ],
   "source": [
    "'spam' * 3"
   ]
  },
  {
   "cell_type": "raw",
   "id": "8fdda1c0",
   "metadata": {},
   "source": [
    "8. Why is eggs a valid variable name while 100 is invalid?\n",
    "\n",
    "Ans:- variable names cannot begin with a number."
   ]
  },
  {
   "cell_type": "raw",
   "id": "c9d11792",
   "metadata": {},
   "source": [
    "9. What three functions can be used to get the integer, floating-point number, or string version of a value?\n",
    "\n",
    "Ans:- int() , float() , str()."
   ]
  },
  {
   "cell_type": "raw",
   "id": "14d570cc",
   "metadata": {},
   "source": [
    "10. Why does this expression cause an error? How can you fix it?\n",
    "'I have eaten ' + 99 + ' burritos.'\n",
    "\n",
    "Ans:- The expression causes an error because 99 is an integer and only strings can be joined to other strings with the +         operator.\n",
    "                 the correct way is 'i have eaten' + str(99) + 'burritos'"
   ]
  },
  {
   "cell_type": "code",
   "execution_count": 15,
   "id": "95e83d19",
   "metadata": {},
   "outputs": [
    {
     "ename": "TypeError",
     "evalue": "can only concatenate str (not \"int\") to str",
     "output_type": "error",
     "traceback": [
      "\u001b[1;31m---------------------------------------------------------------------------\u001b[0m",
      "\u001b[1;31mTypeError\u001b[0m                                 Traceback (most recent call last)",
      "\u001b[1;32m~\\AppData\\Local\\Temp/ipykernel_4280/552865289.py\u001b[0m in \u001b[0;36m<module>\u001b[1;34m\u001b[0m\n\u001b[1;32m----> 1\u001b[1;33m \u001b[1;34m'i have eaten'\u001b[0m \u001b[1;33m+\u001b[0m \u001b[1;36m99\u001b[0m \u001b[1;33m+\u001b[0m \u001b[1;34m'burritos'\u001b[0m\u001b[1;33m\u001b[0m\u001b[1;33m\u001b[0m\u001b[0m\n\u001b[0m",
      "\u001b[1;31mTypeError\u001b[0m: can only concatenate str (not \"int\") to str"
     ]
    }
   ],
   "source": [
    "'i have eaten' + 99 + 'burritos'"
   ]
  },
  {
   "cell_type": "code",
   "execution_count": 16,
   "id": "b15d2734",
   "metadata": {},
   "outputs": [
    {
     "data": {
      "text/plain": [
       "'i have eaten99burritos'"
      ]
     },
     "execution_count": 16,
     "metadata": {},
     "output_type": "execute_result"
    }
   ],
   "source": [
    "'i have eaten' + str(99) + 'burritos'"
   ]
  },
  {
   "cell_type": "code",
   "execution_count": null,
   "id": "71dac925",
   "metadata": {},
   "outputs": [],
   "source": []
  }
 ],
 "metadata": {
  "kernelspec": {
   "display_name": "Python 3 (ipykernel)",
   "language": "python",
   "name": "python3"
  },
  "language_info": {
   "codemirror_mode": {
    "name": "ipython",
    "version": 3
   },
   "file_extension": ".py",
   "mimetype": "text/x-python",
   "name": "python",
   "nbconvert_exporter": "python",
   "pygments_lexer": "ipython3",
   "version": "3.9.7"
  }
 },
 "nbformat": 4,
 "nbformat_minor": 5
}
